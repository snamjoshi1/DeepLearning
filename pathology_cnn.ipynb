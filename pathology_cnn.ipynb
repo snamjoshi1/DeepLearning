{
  "nbformat": 4,
  "nbformat_minor": 0,
  "metadata": {
    "colab": {
      "name": "pathology_cnn.ipynb",
      "provenance": [],
      "collapsed_sections": []
    },
    "kernelspec": {
      "name": "python3",
      "display_name": "Python 3"
    },
    "language_info": {
      "name": "python"
    }
  },
  "cells": [
    {
      "cell_type": "code",
      "execution_count": 249,
      "metadata": {
        "id": "tN6wfcorRad1"
      },
      "outputs": [],
      "source": [
        "# Make a connection to Google drive\n",
        "!pip install -U -q PyDrive\n",
        "from pydrive.auth import GoogleAuth\n",
        "from pydrive.drive import GoogleDrive\n",
        "from google.colab import auth"
      ]
    },
    {
      "cell_type": "code",
      "source": [
        "from google.colab import drive\n",
        "drive.mount('/content/drive')"
      ],
      "metadata": {
        "colab": {
          "base_uri": "https://localhost:8080/"
        },
        "id": "eZm26HvZRduX",
        "outputId": "a1920f18-abba-494c-b897-2c25e022feae"
      },
      "execution_count": 250,
      "outputs": [
        {
          "output_type": "stream",
          "name": "stdout",
          "text": [
            "Drive already mounted at /content/drive; to attempt to forcibly remount, call drive.mount(\"/content/drive\", force_remount=True).\n"
          ]
        }
      ]
    },
    {
      "cell_type": "code",
      "source": [
        "# Import the required libraries\n",
        "import torch\n",
        "import random\n",
        "import numpy as np\n",
        "import pandas as pd\n",
        "from matplotlib import pyplot as plt\n",
        "from torchvision import datasets\n",
        "import torchvision.transforms as transforms\n",
        "from sklearn.model_selection import train_test_split\n",
        "import torch.nn as nn\n",
        "import torch.nn.functional as F\n",
        "import torch.optim as optim\n",
        "from torch.utils.data import DataLoader, TensorDataset\n",
        "import torchvision\n",
        "from torchvision import datasets, transforms, models\n",
        "from torchvision.datasets import ImageFolder\n",
        "!pip install -U git+https://github.com/szagoruyko/pytorchviz.git@master\n",
        "from torchviz import make_dot, make_dot_from_trace"
      ],
      "metadata": {
        "colab": {
          "base_uri": "https://localhost:8080/"
        },
        "id": "tSMCljIDRwQg",
        "outputId": "6b4b5577-6e1a-4fd4-9368-c30ab15b0c18"
      },
      "execution_count": 251,
      "outputs": [
        {
          "output_type": "stream",
          "name": "stdout",
          "text": [
            "Collecting git+https://github.com/szagoruyko/pytorchviz.git@master\n",
            "  Cloning https://github.com/szagoruyko/pytorchviz.git (to revision master) to /tmp/pip-req-build-or0x0_os\n",
            "  Running command git clone -q https://github.com/szagoruyko/pytorchviz.git /tmp/pip-req-build-or0x0_os\n",
            "Requirement already satisfied: torch in /usr/local/lib/python3.7/dist-packages (from torchviz==0.0.2) (1.10.0+cu111)\n",
            "Requirement already satisfied: graphviz in /usr/local/lib/python3.7/dist-packages (from torchviz==0.0.2) (0.10.1)\n",
            "Requirement already satisfied: typing-extensions in /usr/local/lib/python3.7/dist-packages (from torch->torchviz==0.0.2) (4.1.1)\n"
          ]
        }
      ]
    },
    {
      "cell_type": "code",
      "source": [
        "data_dir = \"/content/drive/MyDrive/pathologyData.zip (Unzipped Files)/cancerData\""
      ],
      "metadata": {
        "id": "z1nUpLBrRzmX"
      },
      "execution_count": 252,
      "outputs": []
    },
    {
      "cell_type": "code",
      "source": [
        "dataset = datasets.ImageFolder(data_dir,transform = transforms.Compose([\n",
        "    transforms.Resize((100,100)),transforms.ToTensor()\n",
        "]))"
      ],
      "metadata": {
        "id": "bF1SNV6eR7IU"
      },
      "execution_count": 253,
      "outputs": []
    },
    {
      "cell_type": "code",
      "source": [
        "img, label = dataset[2999]\n",
        "print(img.shape,label)"
      ],
      "metadata": {
        "colab": {
          "base_uri": "https://localhost:8080/"
        },
        "id": "L_o82f9eR90a",
        "outputId": "83750223-d5f1-4110-aea5-0281103ca43d"
      },
      "execution_count": 254,
      "outputs": [
        {
          "output_type": "stream",
          "name": "stdout",
          "text": [
            "torch.Size([3, 100, 100]) 1\n"
          ]
        }
      ]
    },
    {
      "cell_type": "code",
      "source": [
        "img, label = dataset[1499]\n",
        "print(img.shape,label)"
      ],
      "metadata": {
        "colab": {
          "base_uri": "https://localhost:8080/"
        },
        "id": "Z9WO14DHSAwM",
        "outputId": "5acd286c-025c-4a7d-dbb3-ec71a1d6bfc4"
      },
      "execution_count": 255,
      "outputs": [
        {
          "output_type": "stream",
          "name": "stdout",
          "text": [
            "torch.Size([3, 100, 100]) 0\n"
          ]
        }
      ]
    },
    {
      "cell_type": "code",
      "source": [
        "train_size = int(0.7 * len(dataset))\n",
        "test_size = len(dataset) - train_size"
      ],
      "metadata": {
        "id": "WXeACE8SSDWI"
      },
      "execution_count": 256,
      "outputs": []
    },
    {
      "cell_type": "code",
      "source": [
        "train_dataset, test_dataset = torch.utils.data.random_split(dataset, [train_size, test_size])"
      ],
      "metadata": {
        "id": "FV91Yk6oSH1_"
      },
      "execution_count": 257,
      "outputs": []
    },
    {
      "cell_type": "code",
      "source": [
        "dataloader_train = DataLoader(\n",
        "    train_dataset, batch_size=100, shuffle=True,\n",
        ")"
      ],
      "metadata": {
        "id": "EO95apMcSKp6"
      },
      "execution_count": 258,
      "outputs": []
    },
    {
      "cell_type": "code",
      "source": [
        "dataloader_test = DataLoader(\n",
        "    test_dataset, batch_size=100, shuffle=True,\n",
        ")"
      ],
      "metadata": {
        "id": "TTaB78evSNRk"
      },
      "execution_count": 259,
      "outputs": []
    },
    {
      "cell_type": "code",
      "source": [
        "# Set seed\n",
        "\n",
        "#Seed 1\n",
        "torch.manual_seed(4)\n",
        "random.seed(4)\n",
        "np.random.seed(4)\n",
        "\n",
        "#Seed 2\n",
        "#torch.manual_seed(6)\n",
        "#random.seed(6)\n",
        "#np.random.seed(6)\n",
        "\n",
        "#Seed 3\n",
        "#torch.manual_seed(8)\n",
        "#random.seed(8)\n",
        "#np.random.seed(8)\n",
        "\n",
        "torch.use_deterministic_algorithms(True)"
      ],
      "metadata": {
        "id": "LxB1i1a8SQe2"
      },
      "execution_count": 260,
      "outputs": []
    },
    {
      "cell_type": "code",
      "source": [
        "class CNN(nn.Module):\n",
        "    def __init__(self):\n",
        "        super(CNN, self).__init__()\n",
        "        # nn.Conv2d API : torch.nn.Conv2d(in_channels, out_channels, kernel_size, stride=1, padding=0, dilation=1, groups=1, bias=True, padding_mode='zeros')\n",
        "        self.conv1 = nn.Conv2d(3, 16, kernel_size=3, stride=1, padding=1)  # 16 filters of 3x3 size and depth 3 (since input channel = 3(RGB))\n",
        "        self.conv2 = nn.Conv2d(16, 8, kernel_size=3, stride=1, padding=1) # 8 filters of 3X3 size and depth 16 #params = 8X3X3X16 + \n",
        "        \n",
        "        # nn.Linear API : torch.nn.Linear(in_features, out_features, bias=True)\n",
        "        self.fc1 = nn.Linear(25*25*8, 64)      #Dense Layer of 64 which as input params as 25*25*8\n",
        "        self.fc2 = nn.Linear(64, 2)\n",
        "\n",
        "    def forward(self, x):\n",
        "        # BLOCK 1: CONV + RELU + MAXPOOL\n",
        "        x = F.max_pool2d(F.relu(self.conv1(x)),2)\n",
        "        # BLOCK 2: CONV  + RELU + MAXPOOL\n",
        "        x = F.max_pool2d(F.relu(self.conv2(x)),2)\n",
        "        # FLATTEN\n",
        "        x = x.flatten(start_dim=1)\n",
        "        # BLOCK 4: FC \n",
        "        x = F.relu(self.fc1(x))\n",
        "        X = F.relu(self.fc2(x))\n",
        "        return x\n",
        "\n",
        "model = CNN()\n",
        "print(model)\n",
        "# get a random training batch\n",
        "iterator = iter(dataloader_train)\n",
        "X_batch, y_batch = next(iterator)\n",
        "print(X_batch.shape, y_batch.shape, model(X_batch).shape)\n",
        "\n",
        "# pass a batch through the model and visualize the architecture\n",
        "# NOTE: we do not have to explicitly call model.forward(inputs), instead we just do model(inputs)\n",
        "# This is because PyTorch internally takes care of, giving us this syntactic sugar\n",
        "make_dot(model(X_batch), params=dict(model.named_parameters()))"
      ],
      "metadata": {
        "colab": {
          "base_uri": "https://localhost:8080/",
          "height": 1000
        },
        "id": "NKdRFGPuSVFs",
        "outputId": "76ea13fb-511a-43a2-c564-4b3e0b3d3666"
      },
      "execution_count": 261,
      "outputs": [
        {
          "output_type": "stream",
          "name": "stdout",
          "text": [
            "CNN(\n",
            "  (conv1): Conv2d(3, 16, kernel_size=(3, 3), stride=(1, 1), padding=(1, 1))\n",
            "  (conv2): Conv2d(16, 8, kernel_size=(3, 3), stride=(1, 1), padding=(1, 1))\n",
            "  (fc1): Linear(in_features=5000, out_features=64, bias=True)\n",
            "  (fc2): Linear(in_features=64, out_features=2, bias=True)\n",
            ")\n",
            "torch.Size([100, 3, 100, 100]) torch.Size([100]) torch.Size([100, 64])\n"
          ]
        },
        {
          "output_type": "execute_result",
          "data": {
            "text/plain": [
              "<graphviz.dot.Digraph at 0x7f72851d6390>"
            ],
            "image/svg+xml": "<?xml version=\"1.0\" encoding=\"UTF-8\" standalone=\"no\"?>\n<!DOCTYPE svg PUBLIC \"-//W3C//DTD SVG 1.1//EN\"\n \"http://www.w3.org/Graphics/SVG/1.1/DTD/svg11.dtd\">\n<!-- Generated by graphviz version 2.40.1 (20161225.0304)\n -->\n<!-- Title: %3 Pages: 1 -->\n<svg width=\"496pt\" height=\"688pt\"\n viewBox=\"0.00 0.00 496.00 688.00\" xmlns=\"http://www.w3.org/2000/svg\" xmlns:xlink=\"http://www.w3.org/1999/xlink\">\n<g id=\"graph0\" class=\"graph\" transform=\"scale(1 1) rotate(0) translate(4 684)\">\n<title>%3</title>\n<polygon fill=\"#ffffff\" stroke=\"transparent\" points=\"-4,4 -4,-684 492,-684 492,4 -4,4\"/>\n<!-- 140129842461008 -->\n<g id=\"node1\" class=\"node\">\n<title>140129842461008</title>\n<polygon fill=\"#caff70\" stroke=\"#000000\" points=\"312,-31 235,-31 235,0 312,0 312,-31\"/>\n<text text-anchor=\"middle\" x=\"273.5\" y=\"-7\" font-family=\"monospace\" font-size=\"10.00\" fill=\"#000000\"> (100, 64)</text>\n</g>\n<!-- 140129836296272 -->\n<g id=\"node2\" class=\"node\">\n<title>140129836296272</title>\n<polygon fill=\"#d3d3d3\" stroke=\"#000000\" points=\"321,-86 226,-86 226,-67 321,-67 321,-86\"/>\n<text text-anchor=\"middle\" x=\"273.5\" y=\"-74\" font-family=\"monospace\" font-size=\"10.00\" fill=\"#000000\">ReluBackward0</text>\n</g>\n<!-- 140129836296272&#45;&gt;140129842461008 -->\n<g id=\"edge22\" class=\"edge\">\n<title>140129836296272&#45;&gt;140129842461008</title>\n<path fill=\"none\" stroke=\"#000000\" d=\"M273.5,-66.9688C273.5,-60.1289 273.5,-50.5621 273.5,-41.5298\"/>\n<polygon fill=\"#000000\" stroke=\"#000000\" points=\"277.0001,-41.3678 273.5,-31.3678 270.0001,-41.3678 277.0001,-41.3678\"/>\n</g>\n<!-- 140129836297040 -->\n<g id=\"node3\" class=\"node\">\n<title>140129836297040</title>\n<polygon fill=\"#d3d3d3\" stroke=\"#000000\" points=\"324,-141 223,-141 223,-122 324,-122 324,-141\"/>\n<text text-anchor=\"middle\" x=\"273.5\" y=\"-129\" font-family=\"monospace\" font-size=\"10.00\" fill=\"#000000\">AddmmBackward0</text>\n</g>\n<!-- 140129836297040&#45;&gt;140129836296272 -->\n<g id=\"edge1\" class=\"edge\">\n<title>140129836297040&#45;&gt;140129836296272</title>\n<path fill=\"none\" stroke=\"#000000\" d=\"M273.5,-121.9197C273.5,-114.9083 273.5,-105.1442 273.5,-96.4652\"/>\n<polygon fill=\"#000000\" stroke=\"#000000\" points=\"277.0001,-96.3408 273.5,-86.3408 270.0001,-96.3409 277.0001,-96.3408\"/>\n</g>\n<!-- 140129836296912 -->\n<g id=\"node4\" class=\"node\">\n<title>140129836296912</title>\n<polygon fill=\"#d3d3d3\" stroke=\"#000000\" points=\"181,-196 80,-196 80,-177 181,-177 181,-196\"/>\n<text text-anchor=\"middle\" x=\"130.5\" y=\"-184\" font-family=\"monospace\" font-size=\"10.00\" fill=\"#000000\">AccumulateGrad</text>\n</g>\n<!-- 140129836296912&#45;&gt;140129836297040 -->\n<g id=\"edge2\" class=\"edge\">\n<title>140129836296912&#45;&gt;140129836297040</title>\n<path fill=\"none\" stroke=\"#000000\" d=\"M155.4087,-176.9197C178.5402,-168.023 213.1951,-154.6942 238.988,-144.7739\"/>\n<polygon fill=\"#000000\" stroke=\"#000000\" points=\"240.3199,-148.0116 248.3969,-141.155 237.807,-141.4782 240.3199,-148.0116\"/>\n</g>\n<!-- 140129836062288 -->\n<g id=\"node5\" class=\"node\">\n<title>140129836062288</title>\n<polygon fill=\"#add8e6\" stroke=\"#000000\" points=\"160,-262 95,-262 95,-232 160,-232 160,-262\"/>\n<text text-anchor=\"middle\" x=\"127.5\" y=\"-250\" font-family=\"monospace\" font-size=\"10.00\" fill=\"#000000\">fc1.bias</text>\n<text text-anchor=\"middle\" x=\"127.5\" y=\"-239\" font-family=\"monospace\" font-size=\"10.00\" fill=\"#000000\"> (64)</text>\n</g>\n<!-- 140129836062288&#45;&gt;140129836296912 -->\n<g id=\"edge3\" class=\"edge\">\n<title>140129836062288&#45;&gt;140129836296912</title>\n<path fill=\"none\" stroke=\"#000000\" d=\"M128.257,-231.7333C128.6389,-224.0322 129.1067,-214.5977 129.5161,-206.3414\"/>\n<polygon fill=\"#000000\" stroke=\"#000000\" points=\"133.025,-206.2475 130.0246,-196.0864 126.0336,-205.9008 133.025,-206.2475\"/>\n</g>\n<!-- 140129836296336 -->\n<g id=\"node6\" class=\"node\">\n<title>140129836296336</title>\n<polygon fill=\"#d3d3d3\" stroke=\"#000000\" points=\"345,-196 202,-196 202,-177 345,-177 345,-196\"/>\n<text text-anchor=\"middle\" x=\"273.5\" y=\"-184\" font-family=\"monospace\" font-size=\"10.00\" fill=\"#000000\">ReshapeAliasBackward0</text>\n</g>\n<!-- 140129836296336&#45;&gt;140129836297040 -->\n<g id=\"edge4\" class=\"edge\">\n<title>140129836296336&#45;&gt;140129836297040</title>\n<path fill=\"none\" stroke=\"#000000\" d=\"M273.5,-176.9197C273.5,-169.9083 273.5,-160.1442 273.5,-151.4652\"/>\n<polygon fill=\"#000000\" stroke=\"#000000\" points=\"277.0001,-151.3408 273.5,-141.3408 270.0001,-151.3409 277.0001,-151.3408\"/>\n</g>\n<!-- 140129836295312 -->\n<g id=\"node7\" class=\"node\">\n<title>140129836295312</title>\n<polygon fill=\"#d3d3d3\" stroke=\"#000000\" points=\"369,-256.5 178,-256.5 178,-237.5 369,-237.5 369,-256.5\"/>\n<text text-anchor=\"middle\" x=\"273.5\" y=\"-244.5\" font-family=\"monospace\" font-size=\"10.00\" fill=\"#000000\">MaxPool2DWithIndicesBackward0</text>\n</g>\n<!-- 140129836295312&#45;&gt;140129836296336 -->\n<g id=\"edge5\" class=\"edge\">\n<title>140129836295312&#45;&gt;140129836296336</title>\n<path fill=\"none\" stroke=\"#000000\" d=\"M273.5,-237.2796C273.5,-229.0376 273.5,-216.9457 273.5,-206.629\"/>\n<polygon fill=\"#000000\" stroke=\"#000000\" points=\"277.0001,-206.3972 273.5,-196.3972 270.0001,-206.3973 277.0001,-206.3972\"/>\n</g>\n<!-- 140129836297744 -->\n<g id=\"node8\" class=\"node\">\n<title>140129836297744</title>\n<polygon fill=\"#d3d3d3\" stroke=\"#000000\" points=\"321,-322.5 226,-322.5 226,-303.5 321,-303.5 321,-322.5\"/>\n<text text-anchor=\"middle\" x=\"273.5\" y=\"-310.5\" font-family=\"monospace\" font-size=\"10.00\" fill=\"#000000\">ReluBackward0</text>\n</g>\n<!-- 140129836297744&#45;&gt;140129836295312 -->\n<g id=\"edge6\" class=\"edge\">\n<title>140129836297744&#45;&gt;140129836295312</title>\n<path fill=\"none\" stroke=\"#000000\" d=\"M273.5,-303.2615C273.5,-293.7077 273.5,-278.8615 273.5,-266.8183\"/>\n<polygon fill=\"#000000\" stroke=\"#000000\" points=\"277.0001,-266.7784 273.5,-256.7785 270.0001,-266.7785 277.0001,-266.7784\"/>\n</g>\n<!-- 140129836295440 -->\n<g id=\"node9\" class=\"node\">\n<title>140129836295440</title>\n<polygon fill=\"#d3d3d3\" stroke=\"#000000\" points=\"360,-383 187,-383 187,-364 360,-364 360,-383\"/>\n<text text-anchor=\"middle\" x=\"273.5\" y=\"-371\" font-family=\"monospace\" font-size=\"10.00\" fill=\"#000000\">MkldnnConvolutionBackward0</text>\n</g>\n<!-- 140129836295440&#45;&gt;140129836297744 -->\n<g id=\"edge7\" class=\"edge\">\n<title>140129836295440&#45;&gt;140129836297744</title>\n<path fill=\"none\" stroke=\"#000000\" d=\"M273.5,-363.7796C273.5,-355.5376 273.5,-343.4457 273.5,-333.129\"/>\n<polygon fill=\"#000000\" stroke=\"#000000\" points=\"277.0001,-332.8972 273.5,-322.8972 270.0001,-332.8973 277.0001,-332.8972\"/>\n</g>\n<!-- 140129836297872 -->\n<g id=\"node10\" class=\"node\">\n<title>140129836297872</title>\n<polygon fill=\"#d3d3d3\" stroke=\"#000000\" points=\"205,-438 14,-438 14,-419 205,-419 205,-438\"/>\n<text text-anchor=\"middle\" x=\"109.5\" y=\"-426\" font-family=\"monospace\" font-size=\"10.00\" fill=\"#000000\">MaxPool2DWithIndicesBackward0</text>\n</g>\n<!-- 140129836297872&#45;&gt;140129836295440 -->\n<g id=\"edge8\" class=\"edge\">\n<title>140129836297872&#45;&gt;140129836295440</title>\n<path fill=\"none\" stroke=\"#000000\" d=\"M138.0666,-418.9197C165.0281,-409.8778 205.6403,-396.2578 235.3602,-386.2908\"/>\n<polygon fill=\"#000000\" stroke=\"#000000\" points=\"236.6179,-389.5606 244.9861,-383.0626 234.3922,-382.9239 236.6179,-389.5606\"/>\n</g>\n<!-- 140129839631696 -->\n<g id=\"node11\" class=\"node\">\n<title>140129839631696</title>\n<polygon fill=\"#d3d3d3\" stroke=\"#000000\" points=\"157,-498.5 62,-498.5 62,-479.5 157,-479.5 157,-498.5\"/>\n<text text-anchor=\"middle\" x=\"109.5\" y=\"-486.5\" font-family=\"monospace\" font-size=\"10.00\" fill=\"#000000\">ReluBackward0</text>\n</g>\n<!-- 140129839631696&#45;&gt;140129836297872 -->\n<g id=\"edge9\" class=\"edge\">\n<title>140129839631696&#45;&gt;140129836297872</title>\n<path fill=\"none\" stroke=\"#000000\" d=\"M109.5,-479.2796C109.5,-471.0376 109.5,-458.9457 109.5,-448.629\"/>\n<polygon fill=\"#000000\" stroke=\"#000000\" points=\"113.0001,-448.3972 109.5,-438.3972 106.0001,-448.3973 113.0001,-448.3972\"/>\n</g>\n<!-- 140129841738192 -->\n<g id=\"node12\" class=\"node\">\n<title>140129841738192</title>\n<polygon fill=\"#d3d3d3\" stroke=\"#000000\" points=\"196,-559 23,-559 23,-540 196,-540 196,-559\"/>\n<text text-anchor=\"middle\" x=\"109.5\" y=\"-547\" font-family=\"monospace\" font-size=\"10.00\" fill=\"#000000\">MkldnnConvolutionBackward0</text>\n</g>\n<!-- 140129841738192&#45;&gt;140129839631696 -->\n<g id=\"edge10\" class=\"edge\">\n<title>140129841738192&#45;&gt;140129839631696</title>\n<path fill=\"none\" stroke=\"#000000\" d=\"M109.5,-539.7796C109.5,-531.5376 109.5,-519.4457 109.5,-509.129\"/>\n<polygon fill=\"#000000\" stroke=\"#000000\" points=\"113.0001,-508.8972 109.5,-498.8972 106.0001,-508.8973 113.0001,-508.8972\"/>\n</g>\n<!-- 140129841738320 -->\n<g id=\"node13\" class=\"node\">\n<title>140129841738320</title>\n<polygon fill=\"#d3d3d3\" stroke=\"#000000\" points=\"101,-614 0,-614 0,-595 101,-595 101,-614\"/>\n<text text-anchor=\"middle\" x=\"50.5\" y=\"-602\" font-family=\"monospace\" font-size=\"10.00\" fill=\"#000000\">AccumulateGrad</text>\n</g>\n<!-- 140129841738320&#45;&gt;140129841738192 -->\n<g id=\"edge11\" class=\"edge\">\n<title>140129841738320&#45;&gt;140129841738192</title>\n<path fill=\"none\" stroke=\"#000000\" d=\"M60.777,-594.9197C69.2176,-587.0514 81.377,-575.7164 91.4369,-566.3385\"/>\n<polygon fill=\"#000000\" stroke=\"#000000\" points=\"94.0154,-568.7198 98.9435,-559.3408 89.2422,-563.5995 94.0154,-568.7198\"/>\n</g>\n<!-- 140129839400144 -->\n<g id=\"node14\" class=\"node\">\n<title>140129839400144</title>\n<polygon fill=\"#add8e6\" stroke=\"#000000\" points=\"101,-680 0,-680 0,-650 101,-650 101,-680\"/>\n<text text-anchor=\"middle\" x=\"50.5\" y=\"-668\" font-family=\"monospace\" font-size=\"10.00\" fill=\"#000000\">conv1.weight</text>\n<text text-anchor=\"middle\" x=\"50.5\" y=\"-657\" font-family=\"monospace\" font-size=\"10.00\" fill=\"#000000\"> (16, 3, 3, 3)</text>\n</g>\n<!-- 140129839400144&#45;&gt;140129841738320 -->\n<g id=\"edge12\" class=\"edge\">\n<title>140129839400144&#45;&gt;140129841738320</title>\n<path fill=\"none\" stroke=\"#000000\" d=\"M50.5,-649.7333C50.5,-642.0322 50.5,-632.5977 50.5,-624.3414\"/>\n<polygon fill=\"#000000\" stroke=\"#000000\" points=\"54.0001,-624.0864 50.5,-614.0864 47.0001,-624.0864 54.0001,-624.0864\"/>\n</g>\n<!-- 140129842804496 -->\n<g id=\"node15\" class=\"node\">\n<title>140129842804496</title>\n<polygon fill=\"#d3d3d3\" stroke=\"#000000\" points=\"220,-614 119,-614 119,-595 220,-595 220,-614\"/>\n<text text-anchor=\"middle\" x=\"169.5\" y=\"-602\" font-family=\"monospace\" font-size=\"10.00\" fill=\"#000000\">AccumulateGrad</text>\n</g>\n<!-- 140129842804496&#45;&gt;140129841738192 -->\n<g id=\"edge13\" class=\"edge\">\n<title>140129842804496&#45;&gt;140129841738192</title>\n<path fill=\"none\" stroke=\"#000000\" d=\"M159.0488,-594.9197C150.4651,-587.0514 138.0997,-575.7164 127.8693,-566.3385\"/>\n<polygon fill=\"#000000\" stroke=\"#000000\" points=\"129.9721,-563.5181 120.2355,-559.3408 125.242,-568.6782 129.9721,-563.5181\"/>\n</g>\n<!-- 140129839401776 -->\n<g id=\"node16\" class=\"node\">\n<title>140129839401776</title>\n<polygon fill=\"#add8e6\" stroke=\"#000000\" points=\"208,-680 131,-680 131,-650 208,-650 208,-680\"/>\n<text text-anchor=\"middle\" x=\"169.5\" y=\"-668\" font-family=\"monospace\" font-size=\"10.00\" fill=\"#000000\">conv1.bias</text>\n<text text-anchor=\"middle\" x=\"169.5\" y=\"-657\" font-family=\"monospace\" font-size=\"10.00\" fill=\"#000000\"> (16)</text>\n</g>\n<!-- 140129839401776&#45;&gt;140129842804496 -->\n<g id=\"edge14\" class=\"edge\">\n<title>140129839401776&#45;&gt;140129842804496</title>\n<path fill=\"none\" stroke=\"#000000\" d=\"M169.5,-649.7333C169.5,-642.0322 169.5,-632.5977 169.5,-624.3414\"/>\n<polygon fill=\"#000000\" stroke=\"#000000\" points=\"173.0001,-624.0864 169.5,-614.0864 166.0001,-624.0864 173.0001,-624.0864\"/>\n</g>\n<!-- 140129836297168 -->\n<g id=\"node17\" class=\"node\">\n<title>140129836297168</title>\n<polygon fill=\"#d3d3d3\" stroke=\"#000000\" points=\"324,-438 223,-438 223,-419 324,-419 324,-438\"/>\n<text text-anchor=\"middle\" x=\"273.5\" y=\"-426\" font-family=\"monospace\" font-size=\"10.00\" fill=\"#000000\">AccumulateGrad</text>\n</g>\n<!-- 140129836297168&#45;&gt;140129836295440 -->\n<g id=\"edge15\" class=\"edge\">\n<title>140129836297168&#45;&gt;140129836295440</title>\n<path fill=\"none\" stroke=\"#000000\" d=\"M273.5,-418.9197C273.5,-411.9083 273.5,-402.1442 273.5,-393.4652\"/>\n<polygon fill=\"#000000\" stroke=\"#000000\" points=\"277.0001,-393.3408 273.5,-383.3408 270.0001,-393.3409 277.0001,-393.3408\"/>\n</g>\n<!-- 140129839400048 -->\n<g id=\"node18\" class=\"node\">\n<title>140129839400048</title>\n<polygon fill=\"#add8e6\" stroke=\"#000000\" points=\"324,-504 223,-504 223,-474 324,-474 324,-504\"/>\n<text text-anchor=\"middle\" x=\"273.5\" y=\"-492\" font-family=\"monospace\" font-size=\"10.00\" fill=\"#000000\">conv2.weight</text>\n<text text-anchor=\"middle\" x=\"273.5\" y=\"-481\" font-family=\"monospace\" font-size=\"10.00\" fill=\"#000000\"> (8, 16, 3, 3)</text>\n</g>\n<!-- 140129839400048&#45;&gt;140129836297168 -->\n<g id=\"edge16\" class=\"edge\">\n<title>140129839400048&#45;&gt;140129836297168</title>\n<path fill=\"none\" stroke=\"#000000\" d=\"M273.5,-473.7333C273.5,-466.0322 273.5,-456.5977 273.5,-448.3414\"/>\n<polygon fill=\"#000000\" stroke=\"#000000\" points=\"277.0001,-448.0864 273.5,-438.0864 270.0001,-448.0864 277.0001,-448.0864\"/>\n</g>\n<!-- 140129839630864 -->\n<g id=\"node19\" class=\"node\">\n<title>140129839630864</title>\n<polygon fill=\"#d3d3d3\" stroke=\"#000000\" points=\"443,-438 342,-438 342,-419 443,-419 443,-438\"/>\n<text text-anchor=\"middle\" x=\"392.5\" y=\"-426\" font-family=\"monospace\" font-size=\"10.00\" fill=\"#000000\">AccumulateGrad</text>\n</g>\n<!-- 140129839630864&#45;&gt;140129836295440 -->\n<g id=\"edge17\" class=\"edge\">\n<title>140129839630864&#45;&gt;140129836295440</title>\n<path fill=\"none\" stroke=\"#000000\" d=\"M371.7718,-418.9197C352.9465,-410.219 324.9495,-397.2792 303.6487,-387.4343\"/>\n<polygon fill=\"#000000\" stroke=\"#000000\" points=\"304.9357,-384.1734 294.39,-383.155 301.9989,-390.5276 304.9357,-384.1734\"/>\n</g>\n<!-- 140129839399760 -->\n<g id=\"node20\" class=\"node\">\n<title>140129839399760</title>\n<polygon fill=\"#add8e6\" stroke=\"#000000\" points=\"431,-504 354,-504 354,-474 431,-474 431,-504\"/>\n<text text-anchor=\"middle\" x=\"392.5\" y=\"-492\" font-family=\"monospace\" font-size=\"10.00\" fill=\"#000000\">conv2.bias</text>\n<text text-anchor=\"middle\" x=\"392.5\" y=\"-481\" font-family=\"monospace\" font-size=\"10.00\" fill=\"#000000\"> (8)</text>\n</g>\n<!-- 140129839399760&#45;&gt;140129839630864 -->\n<g id=\"edge18\" class=\"edge\">\n<title>140129839399760&#45;&gt;140129839630864</title>\n<path fill=\"none\" stroke=\"#000000\" d=\"M392.5,-473.7333C392.5,-466.0322 392.5,-456.5977 392.5,-448.3414\"/>\n<polygon fill=\"#000000\" stroke=\"#000000\" points=\"396.0001,-448.0864 392.5,-438.0864 389.0001,-448.0864 396.0001,-448.0864\"/>\n</g>\n<!-- 140129836295568 -->\n<g id=\"node21\" class=\"node\">\n<title>140129836295568</title>\n<polygon fill=\"#d3d3d3\" stroke=\"#000000\" points=\"458,-196 381,-196 381,-177 458,-177 458,-196\"/>\n<text text-anchor=\"middle\" x=\"419.5\" y=\"-184\" font-family=\"monospace\" font-size=\"10.00\" fill=\"#000000\">TBackward0</text>\n</g>\n<!-- 140129836295568&#45;&gt;140129836297040 -->\n<g id=\"edge19\" class=\"edge\">\n<title>140129836295568&#45;&gt;140129836297040</title>\n<path fill=\"none\" stroke=\"#000000\" d=\"M394.0687,-176.9197C370.4519,-168.023 335.07,-154.6942 308.736,-144.7739\"/>\n<polygon fill=\"#000000\" stroke=\"#000000\" points=\"309.7216,-141.4051 299.1297,-141.155 307.2538,-147.9557 309.7216,-141.4051\"/>\n</g>\n<!-- 140129839631504 -->\n<g id=\"node22\" class=\"node\">\n<title>140129839631504</title>\n<polygon fill=\"#d3d3d3\" stroke=\"#000000\" points=\"488,-256.5 387,-256.5 387,-237.5 488,-237.5 488,-256.5\"/>\n<text text-anchor=\"middle\" x=\"437.5\" y=\"-244.5\" font-family=\"monospace\" font-size=\"10.00\" fill=\"#000000\">AccumulateGrad</text>\n</g>\n<!-- 140129839631504&#45;&gt;140129836295568 -->\n<g id=\"edge20\" class=\"edge\">\n<title>140129839631504&#45;&gt;140129836295568</title>\n<path fill=\"none\" stroke=\"#000000\" d=\"M434.608,-237.2796C432.1297,-228.9499 428.4816,-216.688 425.391,-206.3004\"/>\n<polygon fill=\"#000000\" stroke=\"#000000\" points=\"428.651,-204.9839 422.4446,-196.3972 421.9417,-206.9801 428.651,-204.9839\"/>\n</g>\n<!-- 140129839400336 -->\n<g id=\"node23\" class=\"node\">\n<title>140129839400336</title>\n<polygon fill=\"#add8e6\" stroke=\"#000000\" points=\"479,-328 396,-328 396,-298 479,-298 479,-328\"/>\n<text text-anchor=\"middle\" x=\"437.5\" y=\"-316\" font-family=\"monospace\" font-size=\"10.00\" fill=\"#000000\">fc1.weight</text>\n<text text-anchor=\"middle\" x=\"437.5\" y=\"-305\" font-family=\"monospace\" font-size=\"10.00\" fill=\"#000000\"> (64, 5000)</text>\n</g>\n<!-- 140129839400336&#45;&gt;140129839631504 -->\n<g id=\"edge21\" class=\"edge\">\n<title>140129839400336&#45;&gt;140129839631504</title>\n<path fill=\"none\" stroke=\"#000000\" d=\"M437.5,-297.6924C437.5,-288.5067 437.5,-276.7245 437.5,-266.8312\"/>\n<polygon fill=\"#000000\" stroke=\"#000000\" points=\"441.0001,-266.703 437.5,-256.7031 434.0001,-266.7031 441.0001,-266.703\"/>\n</g>\n</g>\n</svg>\n"
          },
          "metadata": {},
          "execution_count": 261
        }
      ]
    },
    {
      "cell_type": "code",
      "source": [
        "def train(model, device, data_loader, optimizer, criterion, epoch):\n",
        "    model.train()\n",
        "    loss_train = 0\n",
        "    num_correct = 0\n",
        "    for batch_idx, (data, target) in enumerate(data_loader):\n",
        "        data, target = data.to(device), target.to(device)\n",
        "        optimizer.zero_grad()\n",
        "        output = model(data)\n",
        "        loss = criterion(output, target)\n",
        "        loss.backward()\n",
        "        optimizer.step()\n",
        "        loss_train += loss.item()\n",
        "        prediction = output.argmax(dim=1)\n",
        "        num_correct += prediction.eq(target).sum().item()\n",
        "        if batch_idx % 50 == 0:\n",
        "            print('Train Epoch: {} [{}/{} ({:.0f}%)]\\tLoss: {:.4f}\\tAccuracy: {:.0f}%'.format(\n",
        "                epoch, batch_idx * len(data), len(data_loader.dataset),\n",
        "                100. * batch_idx / len(data_loader), loss_train / (batch_idx + 1),\n",
        "                100. * num_correct / (len(data) * (batch_idx + 1))))\n",
        "    loss_train /= len(data_loader)\n",
        "    accuracy = num_correct / len(data_loader.dataset)\n",
        "    return loss_train, accuracy"
      ],
      "metadata": {
        "id": "K9X2A2MVSZQA"
      },
      "execution_count": 262,
      "outputs": []
    },
    {
      "cell_type": "code",
      "source": [
        "def test(model, device, data_loader, criterion):\n",
        "    model.eval()\n",
        "    loss_test = 0\n",
        "    num_correct = 0\n",
        "    with torch.no_grad():\n",
        "        for data, target in data_loader:\n",
        "            data, target = data.to(device), target.to(device)\n",
        "            output = model(data)\n",
        "            loss = criterion(output, target)\n",
        "            loss_test += loss.item()  # sum up batch loss\n",
        "            prediction = output.argmax(dim=1)\n",
        "            num_correct += prediction.eq(target).sum().item()\n",
        "    loss_test /= len(data_loader)\n",
        "    accuracy = num_correct / len(data_loader.dataset)\n",
        "    return loss_test, accuracy"
      ],
      "metadata": {
        "id": "9gz8sqS5ScwI"
      },
      "execution_count": 263,
      "outputs": []
    },
    {
      "cell_type": "code",
      "source": [
        "device = torch.device('cpu' if not torch.cuda.is_available() else 'cuda')\n",
        "model = CNN().to(device)\n",
        "criterion = nn.CrossEntropyLoss().to(device)\n",
        "optimizer = optim.Adam(model.parameters(), lr=0.001) #, betas=(0.9,0.999))\n",
        "\n",
        "for epoch in range(1, 11):\n",
        "    loss_train, acc_train = train(model, device, dataloader_train, optimizer, criterion, epoch)\n",
        "    print('Epoch {} Train: Loss: {:.4f}, Accuracy: {:.3f}%\\n'.format(\n",
        "        epoch, loss_train, 100. * acc_train))\n",
        "    loss_test, acc_test = test(model, device, dataloader_test, criterion)\n",
        "    print('Epoch {} Test : Loss: {:.4f}, Accuracy: {:.3f}%\\n'.format(\n",
        "        epoch, loss_test, 100. * acc_test))"
      ],
      "metadata": {
        "colab": {
          "base_uri": "https://localhost:8080/"
        },
        "id": "WVKKhwDeSgFM",
        "outputId": "e89af86e-0886-4986-fda5-117887c6d058"
      },
      "execution_count": 264,
      "outputs": [
        {
          "output_type": "stream",
          "name": "stdout",
          "text": [
            "Train Epoch: 1 [0/2100 (0%)]\tLoss: 4.1738\tAccuracy: 0%\n",
            "Epoch 1 Train: Loss: 3.1074, Accuracy: 48.000%\n",
            "\n",
            "Epoch 1 Test : Loss: 2.8244, Accuracy: 50.444%\n",
            "\n",
            "Train Epoch: 2 [0/2100 (0%)]\tLoss: 2.7235\tAccuracy: 52%\n",
            "Epoch 2 Train: Loss: 2.6548, Accuracy: 49.810%\n",
            "\n",
            "Epoch 2 Test : Loss: 2.4083, Accuracy: 50.444%\n",
            "\n",
            "Train Epoch: 3 [0/2100 (0%)]\tLoss: 2.4576\tAccuracy: 49%\n",
            "Epoch 3 Train: Loss: 2.2442, Accuracy: 49.810%\n",
            "\n",
            "Epoch 3 Test : Loss: 2.1204, Accuracy: 50.444%\n",
            "\n",
            "Train Epoch: 4 [0/2100 (0%)]\tLoss: 2.0113\tAccuracy: 53%\n",
            "Epoch 4 Train: Loss: 1.1638, Accuracy: 61.429%\n",
            "\n",
            "Epoch 4 Test : Loss: 0.2982, Accuracy: 88.222%\n",
            "\n",
            "Train Epoch: 5 [0/2100 (0%)]\tLoss: 0.2626\tAccuracy: 88%\n",
            "Epoch 5 Train: Loss: 0.1132, Accuracy: 99.095%\n",
            "\n",
            "Epoch 5 Test : Loss: 0.0311, Accuracy: 99.667%\n",
            "\n",
            "Train Epoch: 6 [0/2100 (0%)]\tLoss: 0.0275\tAccuracy: 100%\n",
            "Epoch 6 Train: Loss: 0.0217, Accuracy: 99.952%\n",
            "\n",
            "Epoch 6 Test : Loss: 0.0160, Accuracy: 99.778%\n",
            "\n",
            "Train Epoch: 7 [0/2100 (0%)]\tLoss: 0.0136\tAccuracy: 100%\n",
            "Epoch 7 Train: Loss: 0.0091, Accuracy: 100.000%\n",
            "\n",
            "Epoch 7 Test : Loss: 0.0117, Accuracy: 99.778%\n",
            "\n",
            "Train Epoch: 8 [0/2100 (0%)]\tLoss: 0.0044\tAccuracy: 100%\n",
            "Epoch 8 Train: Loss: 0.0059, Accuracy: 100.000%\n",
            "\n",
            "Epoch 8 Test : Loss: 0.0105, Accuracy: 99.778%\n",
            "\n",
            "Train Epoch: 9 [0/2100 (0%)]\tLoss: 0.0092\tAccuracy: 100%\n",
            "Epoch 9 Train: Loss: 0.0047, Accuracy: 100.000%\n",
            "\n",
            "Epoch 9 Test : Loss: 0.0120, Accuracy: 99.667%\n",
            "\n",
            "Train Epoch: 10 [0/2100 (0%)]\tLoss: 0.0037\tAccuracy: 100%\n",
            "Epoch 10 Train: Loss: 0.0041, Accuracy: 100.000%\n",
            "\n",
            "Epoch 10 Test : Loss: 0.0104, Accuracy: 99.778%\n",
            "\n"
          ]
        }
      ]
    }
  ]
}